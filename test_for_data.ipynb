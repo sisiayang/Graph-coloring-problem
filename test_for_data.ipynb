{
 "cells": [
  {
   "cell_type": "code",
   "execution_count": 1,
   "metadata": {},
   "outputs": [],
   "source": [
    "import networkx as nx\n",
    "import pandas as pd\n",
    "import numpy as np"
   ]
  },
  {
   "cell_type": "code",
   "execution_count": 2,
   "metadata": {},
   "outputs": [],
   "source": [
    "feature_df = pd.read_csv('data/graph_feature.csv')\n",
    "structure_df = pd.read_csv('data/graph_structure.csv')"
   ]
  },
  {
   "cell_type": "code",
   "execution_count": 38,
   "metadata": {},
   "outputs": [
    {
     "name": "stdout",
     "output_type": "stream",
     "text": [
      "['color_red', 'color_black', 'color_green', 'color_blue', 'session', 'uid', 'round', 'score', 'num_of_neighbor', 'hist_color', 'hist_neighbor', 'hist_skip', 'action']\n"
     ]
    }
   ],
   "source": [
    "col = feature_df.columns.tolist()\n",
    "col.remove('color')\n",
    "new_col = ['color_red', 'color_black', 'color_green', 'color_blue'] + col\n",
    "print(new_col)"
   ]
  },
  {
   "cell_type": "code",
   "execution_count": 39,
   "metadata": {},
   "outputs": [
    {
     "data": {
      "text/html": [
       "<div>\n",
       "<style scoped>\n",
       "    .dataframe tbody tr th:only-of-type {\n",
       "        vertical-align: middle;\n",
       "    }\n",
       "\n",
       "    .dataframe tbody tr th {\n",
       "        vertical-align: top;\n",
       "    }\n",
       "\n",
       "    .dataframe thead th {\n",
       "        text-align: right;\n",
       "    }\n",
       "</style>\n",
       "<table border=\"1\" class=\"dataframe\">\n",
       "  <thead>\n",
       "    <tr style=\"text-align: right;\">\n",
       "      <th></th>\n",
       "      <th>color_red</th>\n",
       "      <th>color_black</th>\n",
       "      <th>color_green</th>\n",
       "      <th>color_blue</th>\n",
       "      <th>session</th>\n",
       "      <th>uid</th>\n",
       "      <th>round</th>\n",
       "      <th>score</th>\n",
       "      <th>num_of_neighbor</th>\n",
       "      <th>hist_color</th>\n",
       "      <th>hist_neighbor</th>\n",
       "      <th>hist_skip</th>\n",
       "      <th>action</th>\n",
       "    </tr>\n",
       "  </thead>\n",
       "  <tbody>\n",
       "    <tr>\n",
       "      <th>0</th>\n",
       "      <td>0.0</td>\n",
       "      <td>0.0</td>\n",
       "      <td>0.0</td>\n",
       "      <td>1.0</td>\n",
       "      <td>1.0</td>\n",
       "      <td>1.0</td>\n",
       "      <td>1.0</td>\n",
       "      <td>0.0</td>\n",
       "      <td>6.0</td>\n",
       "      <td>0.0</td>\n",
       "      <td>0.0</td>\n",
       "      <td>0.0</td>\n",
       "      <td>0.0</td>\n",
       "    </tr>\n",
       "    <tr>\n",
       "      <th>1</th>\n",
       "      <td>0.0</td>\n",
       "      <td>0.0</td>\n",
       "      <td>0.0</td>\n",
       "      <td>1.0</td>\n",
       "      <td>1.0</td>\n",
       "      <td>2.0</td>\n",
       "      <td>1.0</td>\n",
       "      <td>0.0</td>\n",
       "      <td>6.0</td>\n",
       "      <td>0.0</td>\n",
       "      <td>0.0</td>\n",
       "      <td>0.0</td>\n",
       "      <td>0.0</td>\n",
       "    </tr>\n",
       "    <tr>\n",
       "      <th>2</th>\n",
       "      <td>0.0</td>\n",
       "      <td>0.0</td>\n",
       "      <td>0.0</td>\n",
       "      <td>1.0</td>\n",
       "      <td>1.0</td>\n",
       "      <td>3.0</td>\n",
       "      <td>1.0</td>\n",
       "      <td>0.0</td>\n",
       "      <td>6.0</td>\n",
       "      <td>0.0</td>\n",
       "      <td>0.0</td>\n",
       "      <td>0.0</td>\n",
       "      <td>0.0</td>\n",
       "    </tr>\n",
       "    <tr>\n",
       "      <th>3</th>\n",
       "      <td>0.0</td>\n",
       "      <td>0.0</td>\n",
       "      <td>0.0</td>\n",
       "      <td>1.0</td>\n",
       "      <td>1.0</td>\n",
       "      <td>4.0</td>\n",
       "      <td>1.0</td>\n",
       "      <td>0.0</td>\n",
       "      <td>6.0</td>\n",
       "      <td>0.0</td>\n",
       "      <td>0.0</td>\n",
       "      <td>0.0</td>\n",
       "      <td>0.0</td>\n",
       "    </tr>\n",
       "    <tr>\n",
       "      <th>4</th>\n",
       "      <td>0.0</td>\n",
       "      <td>0.0</td>\n",
       "      <td>0.0</td>\n",
       "      <td>1.0</td>\n",
       "      <td>1.0</td>\n",
       "      <td>5.0</td>\n",
       "      <td>1.0</td>\n",
       "      <td>0.0</td>\n",
       "      <td>6.0</td>\n",
       "      <td>0.0</td>\n",
       "      <td>0.0</td>\n",
       "      <td>0.0</td>\n",
       "      <td>0.0</td>\n",
       "    </tr>\n",
       "    <tr>\n",
       "      <th>...</th>\n",
       "      <td>...</td>\n",
       "      <td>...</td>\n",
       "      <td>...</td>\n",
       "      <td>...</td>\n",
       "      <td>...</td>\n",
       "      <td>...</td>\n",
       "      <td>...</td>\n",
       "      <td>...</td>\n",
       "      <td>...</td>\n",
       "      <td>...</td>\n",
       "      <td>...</td>\n",
       "      <td>...</td>\n",
       "      <td>...</td>\n",
       "    </tr>\n",
       "    <tr>\n",
       "      <th>2148</th>\n",
       "      <td>0.0</td>\n",
       "      <td>1.0</td>\n",
       "      <td>0.0</td>\n",
       "      <td>0.0</td>\n",
       "      <td>13.0</td>\n",
       "      <td>16.0</td>\n",
       "      <td>6.0</td>\n",
       "      <td>100.0</td>\n",
       "      <td>7.0</td>\n",
       "      <td>0.2</td>\n",
       "      <td>0.0</td>\n",
       "      <td>0.8</td>\n",
       "      <td>1.0</td>\n",
       "    </tr>\n",
       "    <tr>\n",
       "      <th>2149</th>\n",
       "      <td>0.0</td>\n",
       "      <td>0.0</td>\n",
       "      <td>1.0</td>\n",
       "      <td>0.0</td>\n",
       "      <td>13.0</td>\n",
       "      <td>17.0</td>\n",
       "      <td>6.0</td>\n",
       "      <td>100.0</td>\n",
       "      <td>7.0</td>\n",
       "      <td>0.2</td>\n",
       "      <td>0.2</td>\n",
       "      <td>0.6</td>\n",
       "      <td>1.0</td>\n",
       "    </tr>\n",
       "    <tr>\n",
       "      <th>2150</th>\n",
       "      <td>1.0</td>\n",
       "      <td>0.0</td>\n",
       "      <td>0.0</td>\n",
       "      <td>0.0</td>\n",
       "      <td>13.0</td>\n",
       "      <td>18.0</td>\n",
       "      <td>6.0</td>\n",
       "      <td>89.0</td>\n",
       "      <td>9.0</td>\n",
       "      <td>0.4</td>\n",
       "      <td>0.0</td>\n",
       "      <td>0.6</td>\n",
       "      <td>2.0</td>\n",
       "    </tr>\n",
       "    <tr>\n",
       "      <th>2151</th>\n",
       "      <td>0.0</td>\n",
       "      <td>0.0</td>\n",
       "      <td>0.0</td>\n",
       "      <td>1.0</td>\n",
       "      <td>13.0</td>\n",
       "      <td>19.0</td>\n",
       "      <td>6.0</td>\n",
       "      <td>100.0</td>\n",
       "      <td>7.0</td>\n",
       "      <td>0.0</td>\n",
       "      <td>0.6</td>\n",
       "      <td>0.4</td>\n",
       "      <td>1.0</td>\n",
       "    </tr>\n",
       "    <tr>\n",
       "      <th>2152</th>\n",
       "      <td>0.0</td>\n",
       "      <td>0.0</td>\n",
       "      <td>0.0</td>\n",
       "      <td>1.0</td>\n",
       "      <td>13.0</td>\n",
       "      <td>20.0</td>\n",
       "      <td>6.0</td>\n",
       "      <td>100.0</td>\n",
       "      <td>6.0</td>\n",
       "      <td>0.0</td>\n",
       "      <td>0.4</td>\n",
       "      <td>0.6</td>\n",
       "      <td>1.0</td>\n",
       "    </tr>\n",
       "  </tbody>\n",
       "</table>\n",
       "<p>2153 rows × 13 columns</p>\n",
       "</div>"
      ],
      "text/plain": [
       "      color_red  color_black  color_green  color_blue  session   uid  round  \\\n",
       "0           0.0          0.0          0.0         1.0      1.0   1.0    1.0   \n",
       "1           0.0          0.0          0.0         1.0      1.0   2.0    1.0   \n",
       "2           0.0          0.0          0.0         1.0      1.0   3.0    1.0   \n",
       "3           0.0          0.0          0.0         1.0      1.0   4.0    1.0   \n",
       "4           0.0          0.0          0.0         1.0      1.0   5.0    1.0   \n",
       "...         ...          ...          ...         ...      ...   ...    ...   \n",
       "2148        0.0          1.0          0.0         0.0     13.0  16.0    6.0   \n",
       "2149        0.0          0.0          1.0         0.0     13.0  17.0    6.0   \n",
       "2150        1.0          0.0          0.0         0.0     13.0  18.0    6.0   \n",
       "2151        0.0          0.0          0.0         1.0     13.0  19.0    6.0   \n",
       "2152        0.0          0.0          0.0         1.0     13.0  20.0    6.0   \n",
       "\n",
       "      score  num_of_neighbor  hist_color  hist_neighbor  hist_skip  action  \n",
       "0       0.0              6.0         0.0            0.0        0.0     0.0  \n",
       "1       0.0              6.0         0.0            0.0        0.0     0.0  \n",
       "2       0.0              6.0         0.0            0.0        0.0     0.0  \n",
       "3       0.0              6.0         0.0            0.0        0.0     0.0  \n",
       "4       0.0              6.0         0.0            0.0        0.0     0.0  \n",
       "...     ...              ...         ...            ...        ...     ...  \n",
       "2148  100.0              7.0         0.2            0.0        0.8     1.0  \n",
       "2149  100.0              7.0         0.2            0.2        0.6     1.0  \n",
       "2150   89.0              9.0         0.4            0.0        0.6     2.0  \n",
       "2151  100.0              7.0         0.0            0.6        0.4     1.0  \n",
       "2152  100.0              6.0         0.0            0.4        0.6     1.0  \n",
       "\n",
       "[2153 rows x 13 columns]"
      ]
     },
     "execution_count": 39,
     "metadata": {},
     "output_type": "execute_result"
    }
   ],
   "source": [
    "from sklearn.compose import ColumnTransformer\n",
    "from sklearn.preprocessing import OneHotEncoder\n",
    "\n",
    "ct = ColumnTransformer([('color', OneHotEncoder(), [3])], remainder='passthrough')\n",
    "feature_onehot = np.array(ct.fit_transform(feature_df))\n",
    "feature_onehot_df = pd.DataFrame(feature_onehot, columns=new_col)\n",
    "feature_onehot_df"
   ]
  },
  {
   "cell_type": "code",
   "execution_count": 44,
   "metadata": {},
   "outputs": [],
   "source": [
    "def create_graph(session, df):  # df size = graph size\n",
    "    size = len(df)+1\n",
    "    G = nx.Graph()\n",
    "    nodes = range(1, size)\n",
    "    G.add_nodes_from(nodes)\n",
    "    edge_list = []\n",
    "    for uid in range(1, size):\n",
    "        neighbor_list = df[df['uid'] == uid].iloc[0]['linked'].split(',')\n",
    "        edge_list = [(int(uid), int(neighbor)) for neighbor in neighbor_list]\n",
    "        G.add_edges_from(edge_list)\n",
    "    return G\n",
    "\n",
    "def add_feature(graph, f_df):\n",
    "    feature_col_list = ['color_red', 'color_black', 'color_green', 'color_blue', 'score', 'num_of_neighbor', 'hist_color', 'hist_neighbor', 'hist_skip']\n",
    "    for n in graph.nodes():\n",
    "        for f in feature_col_list:\n",
    "            graph.nodes[n][f] = f_df[f_df['uid']==n][f].tolist()[0]    # 取出uid符合的user的f欄位，從series型態轉成list再取值\n",
    "            \n",
    "    return graph"
   ]
  },
  {
   "cell_type": "code",
   "execution_count": 46,
   "metadata": {},
   "outputs": [
    {
     "name": "stdout",
     "output_type": "stream",
     "text": [
      "106\n",
      "106\n"
     ]
    }
   ],
   "source": [
    "graph_list = []\n",
    "label_list = []\n",
    "for session in range(1, 14):\n",
    "    s_all_df = structure_df[structure_df['session'] == session]\n",
    "    for round in s_all_df['round'].unique():\n",
    "        \n",
    "        s_df = s_all_df[s_all_df['round'] == round]\n",
    "        f_df = feature_onehot_df.iloc[s_df.index]\n",
    "        \n",
    "        graph = create_graph(session, s_df)\n",
    "        graph = add_feature(graph, f_df)\n",
    "        graph_list.append(graph)\n",
    "\n",
    "        labels = f_df['action'].tolist()\n",
    "        label_list.append(labels)\n",
    "print(len(graph_list))\n",
    "print(len(label_list))"
   ]
  },
  {
   "attachments": {},
   "cell_type": "markdown",
   "metadata": {},
   "source": [
    "---"
   ]
  },
  {
   "attachments": {},
   "cell_type": "markdown",
   "metadata": {},
   "source": [
    "取得graph size的方法"
   ]
  },
  {
   "cell_type": "code",
   "execution_count": 47,
   "metadata": {},
   "outputs": [
    {
     "data": {
      "text/plain": [
       "15"
      ]
     },
     "execution_count": 47,
     "metadata": {},
     "output_type": "execute_result"
    }
   ],
   "source": [
    "graph_list[0].number_of_nodes()"
   ]
  },
  {
   "attachments": {},
   "cell_type": "markdown",
   "metadata": {},
   "source": [
    "取得node feature vector的方法"
   ]
  },
  {
   "cell_type": "code",
   "execution_count": 48,
   "metadata": {},
   "outputs": [
    {
     "data": {
      "text/plain": [
       "{'color_red': 0.0,\n",
       " 'color_black': 0.0,\n",
       " 'color_green': 0.0,\n",
       " 'color_blue': 1.0,\n",
       " 'score': 0.0,\n",
       " 'num_of_neighbor': 6.0,\n",
       " 'hist_color': 0.0,\n",
       " 'hist_neighbor': 0.0,\n",
       " 'hist_skip': 0.0}"
      ]
     },
     "execution_count": 48,
     "metadata": {},
     "output_type": "execute_result"
    }
   ],
   "source": [
    "# for example\n",
    "# list(graph_list[0].nodes[1].values())\n",
    "graph_list[0].nodes[1]"
   ]
  },
  {
   "cell_type": "code",
   "execution_count": 49,
   "metadata": {},
   "outputs": [],
   "source": [
    "feature_vector_list = []\n",
    "for g in graph_list:\n",
    "    feature_vector_list.append([list(g.nodes[j].values()) for j in range(1, g.number_of_nodes()+1)])"
   ]
  },
  {
   "attachments": {},
   "cell_type": "markdown",
   "metadata": {},
   "source": [
    "取得adj matirc的方法"
   ]
  },
  {
   "cell_type": "code",
   "execution_count": 50,
   "metadata": {},
   "outputs": [
    {
     "name": "stderr",
     "output_type": "stream",
     "text": [
      "C:\\Users\\user\\AppData\\Local\\Temp\\ipykernel_3188\\2240364231.py:1: FutureWarning: adjacency_matrix will return a scipy.sparse array instead of a matrix in Networkx 3.0.\n",
      "  nx.adjacency_matrix(graph_list[0]).todense()\n"
     ]
    },
    {
     "data": {
      "text/plain": [
       "matrix([[0, 1, 1, 1, 0, 0, 0, 0, 0, 0, 0, 0, 1, 1, 1],\n",
       "        [1, 0, 1, 1, 1, 0, 0, 0, 0, 0, 0, 0, 0, 1, 1],\n",
       "        [1, 1, 0, 1, 1, 1, 0, 0, 0, 0, 0, 0, 0, 0, 1],\n",
       "        [1, 1, 1, 0, 1, 1, 1, 0, 0, 0, 0, 0, 0, 0, 0],\n",
       "        [0, 1, 1, 1, 0, 1, 1, 1, 0, 0, 0, 0, 0, 0, 0],\n",
       "        [0, 0, 1, 1, 1, 0, 1, 1, 1, 0, 0, 0, 0, 0, 0],\n",
       "        [0, 0, 0, 1, 1, 1, 0, 1, 1, 1, 0, 0, 0, 0, 0],\n",
       "        [0, 0, 0, 0, 1, 1, 1, 0, 1, 1, 1, 0, 0, 0, 0],\n",
       "        [0, 0, 0, 0, 0, 1, 1, 1, 0, 1, 1, 1, 0, 0, 0],\n",
       "        [0, 0, 0, 0, 0, 0, 1, 1, 1, 0, 1, 1, 1, 0, 0],\n",
       "        [0, 0, 0, 0, 0, 0, 0, 1, 1, 1, 0, 1, 1, 1, 0],\n",
       "        [0, 0, 0, 0, 0, 0, 0, 0, 1, 1, 1, 0, 1, 1, 1],\n",
       "        [1, 0, 0, 0, 0, 0, 0, 0, 0, 1, 1, 1, 0, 1, 1],\n",
       "        [1, 1, 0, 0, 0, 0, 0, 0, 0, 0, 1, 1, 1, 0, 1],\n",
       "        [1, 1, 1, 0, 0, 0, 0, 0, 0, 0, 0, 1, 1, 1, 0]], dtype=int32)"
      ]
     },
     "execution_count": 50,
     "metadata": {},
     "output_type": "execute_result"
    }
   ],
   "source": [
    "nx.adjacency_matrix(graph_list[0]).todense()"
   ]
  },
  {
   "attachments": {},
   "cell_type": "markdown",
   "metadata": {},
   "source": [
    "create dataset & dataloader"
   ]
  },
  {
   "cell_type": "code",
   "execution_count": 54,
   "metadata": {},
   "outputs": [],
   "source": [
    "from torch.utils.data import Dataset, DataLoader\n",
    "from torch.nn import functional as F\n",
    "import torch"
   ]
  },
  {
   "cell_type": "code",
   "execution_count": 55,
   "metadata": {},
   "outputs": [],
   "source": [
    "class graphDataset(Dataset):\n",
    "    def __init__(self, graph_list, label_list):\n",
    "        feature_matrix_list = []\n",
    "        for g in graph_list:\n",
    "            feature_matrix = [list(g.nodes[j].values()) for j in range(1, g.number_of_nodes()+1)]\n",
    "            feature_matrix_list.append(torch.tensor(feature_matrix, dtype=torch.float))\n",
    "        \n",
    "        self.feature_matrix = feature_matrix_list\n",
    "        \n",
    "        adj_matrix_list = []\n",
    "        for g in graph_list:\n",
    "            adj_matrix = nx.adjacency_matrix(g).todense()\n",
    "            adj_matrix_list.append(torch.tensor(adj_matrix, dtype=torch.float))\n",
    "        self.adj_matrix = adj_matrix_list\n",
    "\n",
    "        labels = []\n",
    "        for i in range(len(label_list)):\n",
    "            labels.append(F.one_hot(torch.tensor(label_list[i], dtype=torch.int64)))\n",
    "        self.labels = labels\n",
    "        #print(len(self.feature_matrix), len(self.adj_matrix), len(self.labels))\n",
    "\n",
    "    def __len__(self):\n",
    "        return len(self.labels)\n",
    "\n",
    "    def __getitem__(self, idx):\n",
    "        features = self.feature_matrix[idx]\n",
    "        adj_matrix = self.adj_matrix[idx]\n",
    "        labels = self.labels[idx]\n",
    "\n",
    "        return features, adj_matrix, labels"
   ]
  },
  {
   "cell_type": "code",
   "execution_count": 56,
   "metadata": {},
   "outputs": [
    {
     "name": "stderr",
     "output_type": "stream",
     "text": [
      "C:\\Users\\user\\AppData\\Local\\Temp\\ipykernel_3188\\3747036373.py:12: FutureWarning: adjacency_matrix will return a scipy.sparse array instead of a matrix in Networkx 3.0.\n",
      "  adj_matrix = nx.adjacency_matrix(g).todense()\n",
      "C:\\Users\\user\\AppData\\Local\\Temp\\ipykernel_3188\\3747036373.py:18: DeprecationWarning: an integer is required (got type float).  Implicit conversion to integers using __int__ is deprecated, and may be removed in a future version of Python.\n",
      "  labels.append(F.one_hot(torch.tensor(label_list[i], dtype=torch.int64)))\n"
     ]
    }
   ],
   "source": [
    "training_data = graphDataset(graph_list, label_list)"
   ]
  },
  {
   "cell_type": "code",
   "execution_count": 57,
   "metadata": {},
   "outputs": [],
   "source": [
    "training_loader = DataLoader(training_data, batch_size=1, shuffle=True)"
   ]
  },
  {
   "cell_type": "code",
   "execution_count": 58,
   "metadata": {},
   "outputs": [],
   "source": [
    "features, adj, labels = next(iter(training_loader))"
   ]
  },
  {
   "cell_type": "code",
   "execution_count": 59,
   "metadata": {},
   "outputs": [
    {
     "data": {
      "text/plain": [
       "torch.Size([1, 18, 9])"
      ]
     },
     "execution_count": 59,
     "metadata": {},
     "output_type": "execute_result"
    }
   ],
   "source": [
    "features.shape"
   ]
  },
  {
   "cell_type": "code",
   "execution_count": 60,
   "metadata": {},
   "outputs": [
    {
     "data": {
      "text/plain": [
       "torch.Size([1, 18, 18])"
      ]
     },
     "execution_count": 60,
     "metadata": {},
     "output_type": "execute_result"
    }
   ],
   "source": [
    "adj.shape"
   ]
  },
  {
   "cell_type": "code",
   "execution_count": 61,
   "metadata": {},
   "outputs": [
    {
     "data": {
      "text/plain": [
       "torch.Size([1, 18, 3])"
      ]
     },
     "execution_count": 61,
     "metadata": {},
     "output_type": "execute_result"
    }
   ],
   "source": [
    "labels.shape"
   ]
  },
  {
   "cell_type": "code",
   "execution_count": 163,
   "metadata": {},
   "outputs": [
    {
     "data": {
      "text/plain": [
       "tensor([[1, 0, 0],\n",
       "        [1, 0, 0],\n",
       "        [1, 0, 0],\n",
       "        [0, 0, 1],\n",
       "        [0, 0, 1],\n",
       "        [1, 0, 0],\n",
       "        [0, 0, 1],\n",
       "        [0, 1, 0],\n",
       "        [0, 0, 1],\n",
       "        [0, 1, 0],\n",
       "        [0, 1, 0],\n",
       "        [1, 0, 0],\n",
       "        [1, 0, 0],\n",
       "        [0, 1, 0],\n",
       "        [0, 1, 0],\n",
       "        [1, 0, 0]])"
      ]
     },
     "execution_count": 163,
     "metadata": {},
     "output_type": "execute_result"
    }
   ],
   "source": [
    "labels.squeeze()"
   ]
  },
  {
   "cell_type": "code",
   "execution_count": 165,
   "metadata": {},
   "outputs": [
    {
     "name": "stdout",
     "output_type": "stream",
     "text": [
      "torch.Size([16, 6])\n",
      "tensor([[ 19., 493.,  35.,   4.,   0.,   2.],\n",
      "        [ 15., 426.,  35.,   6.,   0.,   0.],\n",
      "        [ 13., 383.,  30.,   4.,   0.,   1.],\n",
      "        [ 16., 476.,  35.,   4.,   1.,   1.],\n",
      "        [ 17., 477.,  35.,   4.,   1.,   1.],\n",
      "        [ 12., 450.,  37.,   6.,   0.,   0.],\n",
      "        [ 15., 467.,  37.,   5.,   1.,   0.],\n",
      "        [ 13., 449.,  37.,   5.,   1.,   0.],\n",
      "        [ 14., 433.,  37.,   5.,   1.,   0.],\n",
      "        [ 15., 433.,  42.,   6.,   1.,   0.],\n",
      "        [ 15., 417.,  37.,   5.,   0.,   1.],\n",
      "        [ 16., 416.,  37.,   5.,   0.,   1.],\n",
      "        [ 16., 449.,  37.,   5.,   0.,   1.],\n",
      "        [ 14., 349.,  36.,   6.,   0.,   0.],\n",
      "        [ 17., 433.,  36.,   4.,   0.,   2.],\n",
      "        [ 19., 443.,  35.,   4.,   0.,   2.]])\n"
     ]
    }
   ],
   "source": [
    "output = torch.mm(adj.squeeze(), features.squeeze())\n",
    "print(output.shape)\n",
    "print(output)"
   ]
  }
 ],
 "metadata": {
  "kernelspec": {
   "display_name": "dasktop",
   "language": "python",
   "name": "python3"
  },
  "language_info": {
   "codemirror_mode": {
    "name": "ipython",
    "version": 3
   },
   "file_extension": ".py",
   "mimetype": "text/x-python",
   "name": "python",
   "nbconvert_exporter": "python",
   "pygments_lexer": "ipython3",
   "version": "3.9.12 (main, Apr  4 2022, 05:22:27) [MSC v.1916 64 bit (AMD64)]"
  },
  "orig_nbformat": 4,
  "vscode": {
   "interpreter": {
    "hash": "af145336a072850b3afe5d93846e46bc6fbbea5f0cef0291180fc41145709614"
   }
  }
 },
 "nbformat": 4,
 "nbformat_minor": 2
}
